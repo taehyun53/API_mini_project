{
 "cells": [
  {
   "cell_type": "code",
   "execution_count": 4,
   "id": "189b5d04-fe3f-4730-aa65-24d8ff2844ff",
   "metadata": {},
   "outputs": [
    {
     "name": "stdout",
     "output_type": "stream",
     "text": [
      "None\n"
     ]
    }
   ],
   "source": [
    "'''This exercise will require you to pull some data from https://data.nasdaq.com/ (formerly Quandl API).\n",
    "\n",
    "As a first step, you will need to register a free account on the https://data.nasdaq.com/ website.\n",
    "\n",
    "After you register, you will be provided with a unique API key, that you should store:\n",
    "\n",
    "Note: Use a .env file and put your key in there and python-dotenv to access it in this notebook.\n",
    "\n",
    "The code below uses a key that was used when generating this project but has since been deleted. Never submit your keys to source control. There is a .env-example file in this repository to illusrtate what you need. Copy that to a file called .env and use your own api key in that .env file. Make sure you also have a .gitignore file with a line for .env added to it.\n",
    "\n",
    "The standard Python gitignore is here you can just copy that.\n",
    "'''\n",
    "# get api key from your .env file\n",
    "# First, import the relevant modules\n",
    "import collections\n",
    "import os\n",
    "from dotenv import load_dotenv\n",
    "import requests\n",
    "\n",
    "load_dotenv()\n",
    "API_KEY = os.getenv('gRdZ_9Qxw6YihTqLyQbz')\n",
    "print(API_KEY)"
   ]
  },
  {
   "cell_type": "markdown",
   "id": "98821141-20ed-4c1d-a209-5cf68c3c2bc2",
   "metadata": {},
   "source": [
    "r_json is the json file that consists of nested dictionary. The dataset is the key and everything inside it is key value form. "
   ]
  },
  {
   "cell_type": "markdown",
   "id": "6c6cc684-d3b8-44c2-a74a-e7a60441c9e1",
   "metadata": {},
   "source": [
    "1. Collect data from the Franfurt Stock Exchange, for the ticker AFX_X, for the whole year 2017 (keep in mind that the date format is YYYY-MM-DD)."
   ]
  },
  {
   "cell_type": "code",
   "execution_count": 5,
   "id": "1b67706f-c457-4aca-af1f-e6ea6853f6d7",
   "metadata": {},
   "outputs": [],
   "source": [
    "url = 'https://www.quandl.com/api/v3/datasets/FSE/AFX_X.json?&start_date=2017-01-01&end_date=2017-12-31&api_key=gRdZ_9Qxw6YihTqLyQbz'\n",
    "r = requests.get(url)\n",
    "r_json = r.json()"
   ]
  },
  {
   "cell_type": "markdown",
   "id": "a09956b4-d4f5-4d63-8842-4cc1b5c42523",
   "metadata": {},
   "source": [
    "2. Convert the returned JSON object into a Python dictionary."
   ]
  },
  {
   "cell_type": "code",
   "execution_count": 6,
   "id": "c9f3f552-9f08-4790-a20c-b094b7e3fc7c",
   "metadata": {},
   "outputs": [
    {
     "data": {
      "text/plain": [
       "dict"
      ]
     },
     "execution_count": 6,
     "metadata": {},
     "output_type": "execute_result"
    }
   ],
   "source": [
    "r_json = r.json()\n",
    "type(r_json)"
   ]
  },
  {
   "cell_type": "markdown",
   "id": "e66215cd-76d6-44ab-bfc9-51844e8fcfcb",
   "metadata": {},
   "source": [
    "3. Calculate what the highest and lowest opening prices were for the stock in this period.\n",
    "#"
   ]
  },
  {
   "cell_type": "code",
   "execution_count": 7,
   "id": "905b1f07-dce8-403e-89b6-30d6073f3efd",
   "metadata": {},
   "outputs": [
    {
     "data": {
      "text/plain": [
       "dict_keys(['id', 'dataset_code', 'database_code', 'name', 'description', 'refreshed_at', 'newest_available_date', 'oldest_available_date', 'column_names', 'frequency', 'type', 'premium', 'limit', 'transform', 'column_index', 'start_date', 'end_date', 'data', 'collapse', 'order', 'database_id'])"
      ]
     },
     "execution_count": 7,
     "metadata": {},
     "output_type": "execute_result"
    }
   ],
   "source": [
    "r_json['dataset'].keys()"
   ]
  },
  {
   "cell_type": "code",
   "execution_count": 8,
   "id": "121d7dac-b0fb-4db8-9121-cf4124853878",
   "metadata": {},
   "outputs": [
    {
     "data": {
      "text/plain": [
       "1"
      ]
     },
     "execution_count": 8,
     "metadata": {},
     "output_type": "execute_result"
    }
   ],
   "source": [
    "i_open = r_json['dataset']['column_names']\n",
    "i_open.index('Open')"
   ]
  },
  {
   "cell_type": "code",
   "execution_count": 9,
   "id": "85d7a685-046f-422e-ab14-d2f2f816f1db",
   "metadata": {},
   "outputs": [
    {
     "data": {
      "text/plain": [
       "list"
      ]
     },
     "execution_count": 9,
     "metadata": {},
     "output_type": "execute_result"
    }
   ],
   "source": [
    "data_json = r_json['dataset']['data']\n",
    "type(data_json)"
   ]
  },
  {
   "cell_type": "code",
   "execution_count": 10,
   "id": "4d7d2495-f3f6-454f-8fa7-7988332795e0",
   "metadata": {},
   "outputs": [
    {
     "name": "stdout",
     "output_type": "stream",
     "text": [
      "The highest opening price: 53.11\n",
      "The lowest opening price: 34.0\n"
     ]
    }
   ],
   "source": [
    "data_without_none = [i[1] for i in data_json if i[1] != None]\n",
    "\n",
    "print(\"The highest opening price: \" + str(max(data_without_none)))\n",
    "print(\"The lowest opening price: \" + str(min(data_without_none)))"
   ]
  },
  {
   "cell_type": "markdown",
   "id": "8cc2ac2a-2832-4905-92a7-569f54f5a9ee",
   "metadata": {},
   "source": [
    "4. What was the largest change in any one day (based on High and Low price)?"
   ]
  },
  {
   "cell_type": "code",
   "execution_count": 11,
   "id": "1dc6a989-f564-4790-b3c6-5aac36561ac0",
   "metadata": {},
   "outputs": [
    {
     "data": {
      "text/plain": [
       "['Date',\n",
       " 'Open',\n",
       " 'High',\n",
       " 'Low',\n",
       " 'Close',\n",
       " 'Change',\n",
       " 'Traded Volume',\n",
       " 'Turnover',\n",
       " 'Last Price of the Day',\n",
       " 'Daily Traded Units',\n",
       " 'Daily Turnover']"
      ]
     },
     "execution_count": 11,
     "metadata": {},
     "output_type": "execute_result"
    }
   ],
   "source": [
    "index_check = r_json['dataset']['column_names']\n",
    "index_check"
   ]
  },
  {
   "cell_type": "code",
   "execution_count": 12,
   "id": "eedf9e6b-734a-4025-967d-f43fbca8cdb2",
   "metadata": {},
   "outputs": [],
   "source": [
    "high = [f[2] for f in data_json if f[2] != None]\n",
    "\n",
    "low = [f[3] for f in data_json if f[3] != None]"
   ]
  },
  {
   "cell_type": "code",
   "execution_count": 13,
   "id": "221faae4-29fd-485d-ab12-ae0a235e02cc",
   "metadata": {},
   "outputs": [
    {
     "data": {
      "text/plain": [
       "2.8100000000000023"
      ]
     },
     "execution_count": 13,
     "metadata": {},
     "output_type": "execute_result"
    }
   ],
   "source": [
    "zip_object = zip(high,low)\n",
    "\n",
    "max_value = max([(a-b) for (a,b) in zip_object])\n",
    "max_value"
   ]
  },
  {
   "cell_type": "markdown",
   "id": "9588c424-7266-408a-83c4-b85e7ce9404d",
   "metadata": {},
   "source": [
    "5. What was the largest change between any two days (based on Closing Price)?"
   ]
  },
  {
   "cell_type": "code",
   "execution_count": 25,
   "id": "dea2b169-107a-4af7-b016-eebc10988ced",
   "metadata": {},
   "outputs": [
    {
     "data": {
      "text/plain": [
       "['Date',\n",
       " 'Open',\n",
       " 'High',\n",
       " 'Low',\n",
       " 'Close',\n",
       " 'Change',\n",
       " 'Traded Volume',\n",
       " 'Turnover',\n",
       " 'Last Price of the Day',\n",
       " 'Daily Traded Units',\n",
       " 'Daily Turnover']"
      ]
     },
     "execution_count": 25,
     "metadata": {},
     "output_type": "execute_result"
    }
   ],
   "source": [
    "column_names = r_json['dataset']['column_names']\n",
    "column_names"
   ]
  },
  {
   "cell_type": "code",
   "execution_count": 44,
   "id": "b329bc3c-5c59-48c0-88bb-346e3d2b926c",
   "metadata": {},
   "outputs": [],
   "source": [
    "data_for_datasets = r_json['dataset']['data']"
   ]
  },
  {
   "cell_type": "code",
   "execution_count": 78,
   "id": "ab1f1c28-9ea6-4b89-9aaf-392ae3b5d4c3",
   "metadata": {},
   "outputs": [
    {
     "data": {
      "text/plain": [
       "<zip at 0x7f8fb6be0a80>"
      ]
     },
     "execution_count": 78,
     "metadata": {},
     "output_type": "execute_result"
    }
   ],
   "source": [
    "closing = [f[4] for f in data_for_datasets if f[4] != None]\n",
    "closing_prove = [f[4] for f in data_for_datasets if f[4]!=None][1:]\n",
    "\n",
    "the_zip = zip(closing, closing_prove)\n",
    "the_zip"
   ]
  },
  {
   "cell_type": "code",
   "execution_count": 79,
   "id": "7f96636d-b782-423f-8a3b-01d43a0c9817",
   "metadata": {},
   "outputs": [
    {
     "name": "stdout",
     "output_type": "stream",
     "text": [
      "max value is 2.559999999999995\n"
     ]
    }
   ],
   "source": [
    "print(\"max value is\", max([abs(key-value) for (key,value) in the_zip]))"
   ]
  },
  {
   "cell_type": "markdown",
   "id": "29c53b1e-5263-46b1-8ff3-f4a88529c83e",
   "metadata": {},
   "source": [
    "6. What was the average daily trading volume during this year?"
   ]
  },
  {
   "cell_type": "code",
   "execution_count": 80,
   "id": "a97da9d9-025d-4fea-9f07-070c5d27ad28",
   "metadata": {},
   "outputs": [
    {
     "data": {
      "text/plain": [
       "['Date',\n",
       " 'Open',\n",
       " 'High',\n",
       " 'Low',\n",
       " 'Close',\n",
       " 'Change',\n",
       " 'Traded Volume',\n",
       " 'Turnover',\n",
       " 'Last Price of the Day',\n",
       " 'Daily Traded Units',\n",
       " 'Daily Turnover']"
      ]
     },
     "execution_count": 80,
     "metadata": {},
     "output_type": "execute_result"
    }
   ],
   "source": [
    "column_names"
   ]
  },
  {
   "cell_type": "code",
   "execution_count": 87,
   "id": "529a0c8f-916b-4853-8420-e310d5997364",
   "metadata": {},
   "outputs": [
    {
     "data": {
      "text/plain": [
       "89124.33725490196"
      ]
     },
     "execution_count": 87,
     "metadata": {},
     "output_type": "execute_result"
    }
   ],
   "source": [
    "average_daily_trade = sum([f[6] for f in data_for_datasets if f[6] != None]) / len([f[6] for f in data_for_datasets if f[6] != None])\n",
    "average_daily_trade"
   ]
  },
  {
   "cell_type": "markdown",
   "id": "341b2246-5bda-40ab-8ea1-93e02bff4758",
   "metadata": {},
   "source": [
    "7. (Optional) What was the median trading volume during this year. (Note: you may need to implement your own function for calculating the median.)"
   ]
  },
  {
   "cell_type": "code",
   "execution_count": 90,
   "id": "8cdbb5d4-7521-4066-b3de-87e6865cb7a4",
   "metadata": {},
   "outputs": [
    {
     "data": {
      "text/plain": [
       "['Date',\n",
       " 'Open',\n",
       " 'High',\n",
       " 'Low',\n",
       " 'Close',\n",
       " 'Change',\n",
       " 'Traded Volume',\n",
       " 'Turnover',\n",
       " 'Last Price of the Day',\n",
       " 'Daily Traded Units',\n",
       " 'Daily Turnover']"
      ]
     },
     "execution_count": 90,
     "metadata": {},
     "output_type": "execute_result"
    }
   ],
   "source": [
    "column_names"
   ]
  },
  {
   "cell_type": "code",
   "execution_count": 131,
   "id": "ed1a8def-3dc9-4805-a8da-2edc1898d187",
   "metadata": {},
   "outputs": [],
   "source": [
    "traded_volume = [f[6] for f in data_for_datasets if f[6] != None]"
   ]
  },
  {
   "cell_type": "code",
   "execution_count": 142,
   "id": "d5f5f8d8-e583-434a-a783-a88668864713",
   "metadata": {},
   "outputs": [],
   "source": [
    "import math\n",
    "\n",
    "def find_median_value(list_numbers):\n",
    "    sorted_volume = sorted(list_numbers)\n",
    "    len_sorted_volume = len(list_numbers)\n",
    "    mid_value_upper = [(i,v) for i,v in enumerate(sorted_volume)][math.ceil(len_sorted_volume/2)][1]\n",
    "    mid_value_floor = [(i,v) for i,v in enumerate(sorted_volume)][math.floor(len_sorted_volume/2)][1]\n",
    "    median_volume = (mid_value_upper + mid_value_floor)/2\n",
    "    return median_volume"
   ]
  },
  {
   "cell_type": "code",
   "execution_count": 143,
   "id": "0d63219b-09b5-4cd7-b060-7feb68498e3f",
   "metadata": {},
   "outputs": [
    {
     "data": {
      "text/plain": [
       "76443.0"
      ]
     },
     "execution_count": 143,
     "metadata": {},
     "output_type": "execute_result"
    }
   ],
   "source": [
    "find_median_value(traded_volume)"
   ]
  },
  {
   "cell_type": "code",
   "execution_count": null,
   "id": "e4991c35-8a02-4c0b-bb9d-951d84555893",
   "metadata": {},
   "outputs": [],
   "source": []
  }
 ],
 "metadata": {
  "kernelspec": {
   "display_name": "Python 3",
   "language": "python",
   "name": "python3"
  },
  "language_info": {
   "codemirror_mode": {
    "name": "ipython",
    "version": 3
   },
   "file_extension": ".py",
   "mimetype": "text/x-python",
   "name": "python",
   "nbconvert_exporter": "python",
   "pygments_lexer": "ipython3",
   "version": "3.8.8"
  }
 },
 "nbformat": 4,
 "nbformat_minor": 5
}
